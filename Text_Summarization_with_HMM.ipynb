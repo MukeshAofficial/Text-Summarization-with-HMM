{
  "nbformat": 4,
  "nbformat_minor": 0,
  "metadata": {
    "colab": {
      "provenance": [],
      "authorship_tag": "ABX9TyOq4DN0lLQvLgxbkiATvSIV",
      "include_colab_link": true
    },
    "kernelspec": {
      "name": "python3",
      "display_name": "Python 3"
    },
    "language_info": {
      "name": "python"
    }
  },
  "cells": [
    {
      "cell_type": "markdown",
      "metadata": {
        "id": "view-in-github",
        "colab_type": "text"
      },
      "source": [
        "<a href=\"https://colab.research.google.com/github/MukeshAofficial/Text-Summarization-with-HMM/blob/main/Text_Summarization_with_HMM.ipynb\" target=\"_parent\"><img src=\"https://colab.research.google.com/assets/colab-badge.svg\" alt=\"Open In Colab\"/></a>"
      ]
    },
    {
      "cell_type": "code",
      "source": [
        "!pip install nltk rouge_score gensim sklearn hmmlearn"
      ],
      "metadata": {
        "colab": {
          "base_uri": "https://localhost:8080/"
        },
        "id": "hnE2oIA63_Zj",
        "outputId": "45747c79-ce88-4d1d-c7ef-0563b8f30a9a"
      },
      "execution_count": null,
      "outputs": [
        {
          "output_type": "stream",
          "name": "stdout",
          "text": [
            "Requirement already satisfied: nltk in /usr/local/lib/python3.10/dist-packages (3.8.1)\n",
            "Collecting rouge_score\n",
            "  Downloading rouge_score-0.1.2.tar.gz (17 kB)\n",
            "  Preparing metadata (setup.py) ... \u001b[?25l\u001b[?25hdone\n",
            "Requirement already satisfied: gensim in /usr/local/lib/python3.10/dist-packages (4.3.3)\n",
            "Collecting sklearn\n",
            "  Downloading sklearn-0.0.post12.tar.gz (2.6 kB)\n",
            "  \u001b[1;31merror\u001b[0m: \u001b[1msubprocess-exited-with-error\u001b[0m\n",
            "  \n",
            "  \u001b[31m×\u001b[0m \u001b[32mpython setup.py egg_info\u001b[0m did not run successfully.\n",
            "  \u001b[31m│\u001b[0m exit code: \u001b[1;36m1\u001b[0m\n",
            "  \u001b[31m╰─>\u001b[0m See above for output.\n",
            "  \n",
            "  \u001b[1;35mnote\u001b[0m: This error originates from a subprocess, and is likely not a problem with pip.\n",
            "  Preparing metadata (setup.py) ... \u001b[?25l\u001b[?25herror\n",
            "\u001b[1;31merror\u001b[0m: \u001b[1mmetadata-generation-failed\u001b[0m\n",
            "\n",
            "\u001b[31m×\u001b[0m Encountered error while generating package metadata.\n",
            "\u001b[31m╰─>\u001b[0m See above for output.\n",
            "\n",
            "\u001b[1;35mnote\u001b[0m: This is an issue with the package mentioned above, not pip.\n",
            "\u001b[1;36mhint\u001b[0m: See above for details.\n"
          ]
        }
      ]
    },
    {
      "cell_type": "code",
      "source": [
        "!pip install hmmlearn"
      ],
      "metadata": {
        "colab": {
          "base_uri": "https://localhost:8080/"
        },
        "id": "wsrrD4Yh4hjv",
        "outputId": "61ba2374-b39d-4ccb-99be-1fdaccc70fe4"
      },
      "execution_count": null,
      "outputs": [
        {
          "output_type": "stream",
          "name": "stdout",
          "text": [
            "Collecting hmmlearn\n",
            "  Downloading hmmlearn-0.3.2-cp310-cp310-manylinux_2_17_x86_64.manylinux2014_x86_64.whl.metadata (2.9 kB)\n",
            "Requirement already satisfied: numpy>=1.10 in /usr/local/lib/python3.10/dist-packages (from hmmlearn) (1.26.4)\n",
            "Requirement already satisfied: scikit-learn!=0.22.0,>=0.16 in /usr/local/lib/python3.10/dist-packages (from hmmlearn) (1.5.2)\n",
            "Requirement already satisfied: scipy>=0.19 in /usr/local/lib/python3.10/dist-packages (from hmmlearn) (1.13.1)\n",
            "Requirement already satisfied: joblib>=1.2.0 in /usr/local/lib/python3.10/dist-packages (from scikit-learn!=0.22.0,>=0.16->hmmlearn) (1.4.2)\n",
            "Requirement already satisfied: threadpoolctl>=3.1.0 in /usr/local/lib/python3.10/dist-packages (from scikit-learn!=0.22.0,>=0.16->hmmlearn) (3.5.0)\n",
            "Downloading hmmlearn-0.3.2-cp310-cp310-manylinux_2_17_x86_64.manylinux2014_x86_64.whl (161 kB)\n",
            "\u001b[?25l   \u001b[90m━━━━━━━━━━━━━━━━━━━━━━━━━━━━━━━━━━━━━━━━\u001b[0m \u001b[32m0.0/161.1 kB\u001b[0m \u001b[31m?\u001b[0m eta \u001b[36m-:--:--\u001b[0m\r\u001b[2K   \u001b[91m━━━━━━━━━━━━━━━━━━━━━━━━━━━━━━━━━━━━━━\u001b[0m\u001b[90m╺\u001b[0m\u001b[90m━\u001b[0m \u001b[32m153.6/161.1 kB\u001b[0m \u001b[31m4.3 MB/s\u001b[0m eta \u001b[36m0:00:01\u001b[0m\r\u001b[2K   \u001b[90m━━━━━━━━━━━━━━━━━━━━━━━━━━━━━━━━━━━━━━━━\u001b[0m \u001b[32m161.1/161.1 kB\u001b[0m \u001b[31m3.1 MB/s\u001b[0m eta \u001b[36m0:00:00\u001b[0m\n",
            "\u001b[?25hInstalling collected packages: hmmlearn\n",
            "Successfully installed hmmlearn-0.3.2\n"
          ]
        }
      ]
    },
    {
      "cell_type": "code",
      "source": [
        "import numpy as np\n",
        "import nltk\n",
        "from nltk.tokenize import sent_tokenize, word_tokenize\n",
        "from hmmlearn import hmm\n",
        "from rouge_score import rouge_scorer\n",
        "\n",
        "nltk.download('punkt')\n",
        "\n",
        "text = \"\"\"\n",
        "Artificial Intelligence (AI) is transforming education by providing innovative solutions that enhance learning experiences and administrative efficiency.\n",
        "From personalized learning to intelligent tutoring systems, AI is reshaping how students engage with educational content, making it more interactive and tailored to individual needs.\n",
        "One of the most significant applications of AI in education is personalized learning.\n",
        "AI algorithms analyze student data to adapt curricula and instructional methods based on individual learning styles and paces.\n",
        "This approach enables students to receive customized resources, helping them grasp difficult concepts more effectively.\n",
        "AI-powered intelligent tutoring systems (ITS) provide students with on-demand support.\n",
        "These systems can assess a student’s knowledge level and offer immediate feedback, guiding them through complex problems step-by-step.\n",
        "ITS has proven particularly effective in subjects like mathematics and science, where immediate reinforcement is crucial.\n",
        "\"\"\"\n",
        "\n",
        "sentences = sent_tokenize(text)\n",
        "\n",
        "tokenized_sentences = [word_tokenize(sentence.lower()) for sentence in sentences]\n",
        "\n",
        "vocab = list(set(word for sentence in tokenized_sentences for word in sentence))\n",
        "vocab_size = len(vocab)\n",
        "\n",
        "word_to_index = {word: i for i, word in enumerate(vocab)}\n",
        "\n",
        "def create_feature_matrix(tokenized_sentences):\n",
        "    feature_matrix = np.zeros((len(tokenized_sentences), vocab_size))\n",
        "    for i, sentence in enumerate(tokenized_sentences):\n",
        "        for word in sentence:\n",
        "            if word in word_to_index:\n",
        "                feature_matrix[i, word_to_index[word]] += 1  # Count word occurrences\n",
        "    return feature_matrix\n",
        "\n",
        "X = create_feature_matrix(tokenized_sentences)\n",
        "\n",
        "n_states = 2\n",
        "model = hmm.GaussianHMM(n_components=n_states, covariance_type=\"diag\", n_iter=100)\n",
        "model.fit(X)\n",
        "\n",
        "hidden_states = model.predict(X)\n",
        "\n",
        "summary_sentences = [sentences[i] for i in range(len(sentences)) if hidden_states[i] == hidden_states.argmax()]\n",
        "\n",
        "summary = ' '.join(summary_sentences)\n",
        "print(\"Generated Summary:\")\n",
        "print(summary)\n",
        "\n",
        "\n",
        "reference_summary = \"\"\"\n",
        "AI is transforming education by providing innovative solutions that enhance learning and efficiency.\n",
        "It reshapes how students engage with content through personalized learning and intelligent tutoring systems.\n",
        "These systems adapt based on individual needs, enabling customized resources and real-time feedback.\n",
        "\"\"\"\n",
        "\n",
        "def evaluate_summary(reference_summary, generated_summary):\n",
        "    scorer = rouge_scorer.RougeScorer(['rouge1', 'rouge2', 'rougeL'], use_stemmer=True)\n",
        "    scores = scorer.score(reference_summary, generated_summary)\n",
        "    return scores\n",
        "\n",
        "rouge_scores = evaluate_summary(reference_summary, summary)\n",
        "\n",
        "print(\"\\nROUGE Evaluation Scores:\")\n",
        "print(f\"ROUGE-1: {rouge_scores['rouge1']}\")\n",
        "print(f\"ROUGE-2: {rouge_scores['rouge2']}\")\n",
        "print(f\"ROUGE-L: {rouge_scores['rougeL']}\")"
      ],
      "metadata": {
        "id": "NQ9UgFF15WkC",
        "outputId": "7a618c73-517e-4614-9b98-0a1b2391208c",
        "colab": {
          "base_uri": "https://localhost:8080/"
        }
      },
      "execution_count": null,
      "outputs": [
        {
          "output_type": "stream",
          "name": "stdout",
          "text": [
            "Generated Summary:\n",
            "From personalized learning to intelligent tutoring systems, AI is reshaping how students engage with educational content, making it more interactive and tailored to individual needs. This approach enables students to receive customized resources, helping them grasp difficult concepts more effectively. AI-powered intelligent tutoring systems (ITS) provide students with on-demand support. These systems can assess a student’s knowledge level and offer immediate feedback, guiding them through complex problems step-by-step. ITS has proven particularly effective in subjects like mathematics and science, where immediate reinforcement is crucial.\n",
            "\n",
            "ROUGE Evaluation Scores:\n",
            "ROUGE-1: Score(precision=0.33707865168539325, recall=0.7317073170731707, fmeasure=0.4615384615384615)\n",
            "ROUGE-2: Score(precision=0.125, recall=0.275, fmeasure=0.171875)\n",
            "ROUGE-L: Score(precision=0.1797752808988764, recall=0.3902439024390244, fmeasure=0.24615384615384617)\n"
          ]
        },
        {
          "output_type": "stream",
          "name": "stderr",
          "text": [
            "[nltk_data] Downloading package punkt to /root/nltk_data...\n",
            "[nltk_data]   Package punkt is already up-to-date!\n"
          ]
        }
      ]
    },
    {
      "cell_type": "code",
      "source": [],
      "metadata": {
        "id": "Hrt5TGsp4pp1"
      },
      "execution_count": null,
      "outputs": []
    },
    {
      "cell_type": "code",
      "source": [
        "!pip install rouge-score"
      ],
      "metadata": {
        "colab": {
          "base_uri": "https://localhost:8080/"
        },
        "id": "4wn5OOFt5Pp7",
        "outputId": "12f6804d-1b85-4016-df93-db50ed9eae68"
      },
      "execution_count": null,
      "outputs": [
        {
          "output_type": "stream",
          "name": "stdout",
          "text": [
            "Collecting rouge-score\n",
            "  Using cached rouge_score-0.1.2.tar.gz (17 kB)\n",
            "  Preparing metadata (setup.py) ... \u001b[?25l\u001b[?25hdone\n",
            "Requirement already satisfied: absl-py in /usr/local/lib/python3.10/dist-packages (from rouge-score) (1.4.0)\n",
            "Requirement already satisfied: nltk in /usr/local/lib/python3.10/dist-packages (from rouge-score) (3.8.1)\n",
            "Requirement already satisfied: numpy in /usr/local/lib/python3.10/dist-packages (from rouge-score) (1.26.4)\n",
            "Requirement already satisfied: six>=1.14.0 in /usr/local/lib/python3.10/dist-packages (from rouge-score) (1.16.0)\n",
            "Requirement already satisfied: click in /usr/local/lib/python3.10/dist-packages (from nltk->rouge-score) (8.1.7)\n",
            "Requirement already satisfied: joblib in /usr/local/lib/python3.10/dist-packages (from nltk->rouge-score) (1.4.2)\n",
            "Requirement already satisfied: regex>=2021.8.3 in /usr/local/lib/python3.10/dist-packages (from nltk->rouge-score) (2024.9.11)\n",
            "Requirement already satisfied: tqdm in /usr/local/lib/python3.10/dist-packages (from nltk->rouge-score) (4.66.5)\n",
            "Building wheels for collected packages: rouge-score\n",
            "  Building wheel for rouge-score (setup.py) ... \u001b[?25l\u001b[?25hdone\n",
            "  Created wheel for rouge-score: filename=rouge_score-0.1.2-py3-none-any.whl size=24935 sha256=b60417996fbcacd138334cad95629f5d74038ebf2bcf5a2a867886bea488491a\n",
            "  Stored in directory: /root/.cache/pip/wheels/5f/dd/89/461065a73be61a532ff8599a28e9beef17985c9e9c31e541b4\n",
            "Successfully built rouge-score\n",
            "Installing collected packages: rouge-score\n",
            "Successfully installed rouge-score-0.1.2\n"
          ]
        }
      ]
    }
  ]
}